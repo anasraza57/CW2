{
 "cells": [
  {
   "cell_type": "code",
   "execution_count": 1,
   "id": "d1c351e5-44d5-46ee-899b-688796165dc4",
   "metadata": {},
   "outputs": [
    {
     "name": "stdout",
     "output_type": "stream",
     "text": [
      "Requirement already satisfied: medmnist in ./.venv/lib/python3.11/site-packages (3.0.2)\n",
      "Requirement already satisfied: torch in ./.venv/lib/python3.11/site-packages (2.2.2)\n",
      "Requirement already satisfied: torchvision in ./.venv/lib/python3.11/site-packages (0.17.2)\n",
      "Requirement already satisfied: matplotlib in ./.venv/lib/python3.11/site-packages (3.10.1)\n",
      "Requirement already satisfied: seaborn in ./.venv/lib/python3.11/site-packages (0.13.2)\n",
      "Requirement already satisfied: scikit-learn in ./.venv/lib/python3.11/site-packages (1.6.1)\n",
      "Requirement already satisfied: umap-learn in ./.venv/lib/python3.11/site-packages (0.5.7)\n",
      "Requirement already satisfied: numpy in ./.venv/lib/python3.11/site-packages (from medmnist) (2.2.5)\n",
      "Requirement already satisfied: pandas in ./.venv/lib/python3.11/site-packages (from medmnist) (2.2.3)\n",
      "Requirement already satisfied: scikit-image in ./.venv/lib/python3.11/site-packages (from medmnist) (0.25.2)\n",
      "Requirement already satisfied: tqdm in ./.venv/lib/python3.11/site-packages (from medmnist) (4.67.1)\n",
      "Requirement already satisfied: Pillow in ./.venv/lib/python3.11/site-packages (from medmnist) (11.2.1)\n",
      "Requirement already satisfied: fire in ./.venv/lib/python3.11/site-packages (from medmnist) (0.7.0)\n",
      "Requirement already satisfied: filelock in ./.venv/lib/python3.11/site-packages (from torch) (3.18.0)\n",
      "Requirement already satisfied: typing-extensions>=4.8.0 in ./.venv/lib/python3.11/site-packages (from torch) (4.13.2)\n",
      "Requirement already satisfied: sympy in ./.venv/lib/python3.11/site-packages (from torch) (1.14.0)\n",
      "Requirement already satisfied: networkx in ./.venv/lib/python3.11/site-packages (from torch) (3.4.2)\n",
      "Requirement already satisfied: jinja2 in ./.venv/lib/python3.11/site-packages (from torch) (3.1.6)\n",
      "Requirement already satisfied: fsspec in ./.venv/lib/python3.11/site-packages (from torch) (2025.3.2)\n",
      "Requirement already satisfied: contourpy>=1.0.1 in ./.venv/lib/python3.11/site-packages (from matplotlib) (1.3.2)\n",
      "Requirement already satisfied: cycler>=0.10 in ./.venv/lib/python3.11/site-packages (from matplotlib) (0.12.1)\n",
      "Requirement already satisfied: fonttools>=4.22.0 in ./.venv/lib/python3.11/site-packages (from matplotlib) (4.57.0)\n",
      "Requirement already satisfied: kiwisolver>=1.3.1 in ./.venv/lib/python3.11/site-packages (from matplotlib) (1.4.8)\n",
      "Requirement already satisfied: packaging>=20.0 in ./.venv/lib/python3.11/site-packages (from matplotlib) (25.0)\n",
      "Requirement already satisfied: pyparsing>=2.3.1 in ./.venv/lib/python3.11/site-packages (from matplotlib) (3.2.3)\n",
      "Requirement already satisfied: python-dateutil>=2.7 in ./.venv/lib/python3.11/site-packages (from matplotlib) (2.9.0.post0)\n",
      "Requirement already satisfied: scipy>=1.6.0 in ./.venv/lib/python3.11/site-packages (from scikit-learn) (1.15.2)\n",
      "Requirement already satisfied: joblib>=1.2.0 in ./.venv/lib/python3.11/site-packages (from scikit-learn) (1.4.2)\n",
      "Requirement already satisfied: threadpoolctl>=3.1.0 in ./.venv/lib/python3.11/site-packages (from scikit-learn) (3.6.0)\n",
      "Requirement already satisfied: numba>=0.51.2 in ./.venv/lib/python3.11/site-packages (from umap-learn) (0.61.2)\n",
      "Requirement already satisfied: pynndescent>=0.5 in ./.venv/lib/python3.11/site-packages (from umap-learn) (0.5.13)\n",
      "Requirement already satisfied: llvmlite<0.45,>=0.44.0dev0 in ./.venv/lib/python3.11/site-packages (from numba>=0.51.2->umap-learn) (0.44.0)\n",
      "Requirement already satisfied: pytz>=2020.1 in ./.venv/lib/python3.11/site-packages (from pandas->medmnist) (2025.2)\n",
      "Requirement already satisfied: tzdata>=2022.7 in ./.venv/lib/python3.11/site-packages (from pandas->medmnist) (2025.2)\n",
      "Requirement already satisfied: six>=1.5 in ./.venv/lib/python3.11/site-packages (from python-dateutil>=2.7->matplotlib) (1.17.0)\n",
      "Requirement already satisfied: termcolor in ./.venv/lib/python3.11/site-packages (from fire->medmnist) (3.1.0)\n",
      "Requirement already satisfied: MarkupSafe>=2.0 in ./.venv/lib/python3.11/site-packages (from jinja2->torch) (3.0.2)\n",
      "Requirement already satisfied: imageio!=2.35.0,>=2.33 in ./.venv/lib/python3.11/site-packages (from scikit-image->medmnist) (2.37.0)\n",
      "Requirement already satisfied: tifffile>=2022.8.12 in ./.venv/lib/python3.11/site-packages (from scikit-image->medmnist) (2025.3.30)\n",
      "Requirement already satisfied: lazy-loader>=0.4 in ./.venv/lib/python3.11/site-packages (from scikit-image->medmnist) (0.4)\n",
      "Requirement already satisfied: mpmath<1.4,>=1.1.0 in ./.venv/lib/python3.11/site-packages (from sympy->torch) (1.3.0)\n",
      "Note: you may need to restart the kernel to use updated packages.\n"
     ]
    }
   ],
   "source": [
    "pip install medmnist torch torchvision matplotlib seaborn scikit-learn umap-learn"
   ]
  },
  {
   "cell_type": "code",
   "execution_count": 3,
   "id": "608b0f6e-d25b-4b3c-9cfa-1ce7178d350d",
   "metadata": {},
   "outputs": [
    {
     "name": "stdout",
     "output_type": "stream",
     "text": [
      "   label      0      1      2      3      4      5      6      7      8  ...  \\\n",
      "0    0.0  220.0  208.0  227.0  219.0  207.0  227.0  220.0  207.0  227.0  ...   \n",
      "1    4.0  126.0   59.0  119.0  142.0   84.0  139.0  174.0  127.0  176.0  ...   \n",
      "2    7.0  223.0  168.0  204.0  223.0  166.0  203.0  218.0  170.0  205.0  ...   \n",
      "3    5.0  216.0  135.0  183.0  216.0  127.0  178.0  213.0  125.0  175.0  ...   \n",
      "4    5.0  204.0  124.0  177.0  204.0  116.0  170.0  211.0  149.0  190.0  ...   \n",
      "\n",
      "    2342   2343   2344   2345   2346   2347   2348   2349   2350   2351  \n",
      "0  227.0  220.0  208.0  227.0  221.0  208.0  227.0  222.0  209.0  228.0  \n",
      "1  211.0  185.0  150.0  193.0  168.0  126.0  177.0  177.0  137.0  184.0  \n",
      "2  178.0  220.0  163.0  200.0  223.0  159.0  199.0  223.0  155.0  196.0  \n",
      "3  188.0  212.0  130.0  178.0  214.0  129.0  178.0  218.0  133.0  181.0  \n",
      "4  180.0  194.0  124.0  176.0  217.0  170.0  205.0  229.0  206.0  225.0  \n",
      "\n",
      "[5 rows x 2353 columns]\n"
     ]
    }
   ],
   "source": [
    "import numpy as np\n",
    "import pandas as pd\n",
    "\n",
    "# Load the npz file directly\n",
    "data = np.load('pathmnist.npz')\n",
    "\n",
    "# Combine all splits\n",
    "all_images = np.concatenate([\n",
    "    data['train_images'],\n",
    "    data['val_images'],\n",
    "    data['test_images']\n",
    "], axis=0)\n",
    "\n",
    "all_labels = np.concatenate([\n",
    "    data['train_labels'],\n",
    "    data['val_labels'],\n",
    "    data['test_labels']\n",
    "], axis=0).flatten()\n",
    "\n",
    "# Flatten each image from (28, 28, 3) → 1D vector\n",
    "flat_images = all_images.reshape((all_images.shape[0], -1))\n",
    "\n",
    "# Create DataFrame: first column is label, rest are pixels\n",
    "df_full = pd.DataFrame(flat_images)\n",
    "df_full.insert(0, \"label\", all_labels)\n",
    "\n",
    "# Preview\n",
    "print(df_full.head())\n",
    "\n",
    "# Optional: Save to CSV\n",
    "df_full.to_csv(\"pathmnist_full_dataset.csv\", index=False)"
   ]
  },
  {
   "cell_type": "code",
   "execution_count": 4,
   "id": "713c295e-b59a-49d0-8c1d-88e6a64ebb32",
   "metadata": {},
   "outputs": [
    {
     "name": "stderr",
     "output_type": "stream",
     "text": [
      "/var/folders/sy/hms76h_s3393m0hc_w8sjrvh0000gn/T/ipykernel_28951/508220620.py:15: DeprecationWarning: DataFrameGroupBy.apply operated on the grouping columns. This behavior is deprecated, and in a future version of pandas the grouping columns will be excluded from the operation. Either pass `include_groups=False` to exclude the groupings or explicitly select the grouping columns after groupby to silence this warning.\n",
      "  df_sampled = df_full.groupby('label').apply(lambda x: x.sample(n=4500, random_state=42)).reset_index(drop=True)\n"
     ]
    },
    {
     "name": "stdout",
     "output_type": "stream",
     "text": [
      "(40500, 2353)\n"
     ]
    }
   ],
   "source": [
    "# Step 1: Define the mapping from label numbers to medical class names\n",
    "label_map = {\n",
    "    0: 'ADI',\n",
    "    1: 'BACK',\n",
    "    2: 'DEB',\n",
    "    3: 'LYM',\n",
    "    4: 'MUC',\n",
    "    5: 'MUS',\n",
    "    6: 'NORM',\n",
    "    7: 'STR',\n",
    "    8: 'TUM'\n",
    "}\n",
    "\n",
    "# Step 2: Apply stratified sampling (4500 rows per class)\n",
    "df_sampled = df_full.groupby('label').apply(lambda x: x.sample(n=4500, random_state=42)).reset_index(drop=True)\n",
    "\n",
    "# Step 3: Replace numeric labels with string labels using the mapping\n",
    "df_sampled['label'] = df_sampled['label'].map(label_map)\n",
    "\n",
    "# Save to CSV\n",
    "df_sampled.to_csv(\"pathmnist_stratified_4500_per_class_labeled.csv\", index=False)\n",
    "\n",
    "# Confirm shape\n",
    "print(df_sampled.shape)"
   ]
  },
  {
   "cell_type": "code",
   "execution_count": 5,
   "id": "31457e5c",
   "metadata": {},
   "outputs": [
    {
     "name": "stdout",
     "output_type": "stream",
     "text": [
      "Missing values removed: 0\n",
      "Duplicate rows removed: 0\n",
      "Final shape: (40500, 2353)\n"
     ]
    }
   ],
   "source": [
    "# Step 4: Check and drop missing values\n",
    "missing_before = df_sampled.isnull().sum().sum()\n",
    "df_sampled = df_sampled.dropna()\n",
    "missing_after = df_sampled.isnull().sum().sum()\n",
    "\n",
    "# Step 5: Check and drop duplicate rows\n",
    "duplicates_before = df_sampled.duplicated().sum()\n",
    "df_sampled = df_sampled.drop_duplicates()\n",
    "duplicates_after = df_sampled.duplicated().sum()\n",
    "\n",
    "# Save cleaned dataset again\n",
    "df_sampled.to_csv(\"pathmnist_balanced_labeled_cleaned.csv\", index=False)\n",
    "\n",
    "# Print summary\n",
    "print(f\"Missing values removed: {missing_before - missing_after}\")\n",
    "print(f\"Duplicate rows removed: {duplicates_before - duplicates_after}\")\n",
    "print(f\"Final shape: {df_sampled.shape}\")\n"
   ]
  },
  {
   "cell_type": "code",
   "execution_count": null,
   "id": "84a24156",
   "metadata": {},
   "outputs": [
    {
     "name": "stdout",
     "output_type": "stream",
     "text": [
      "\n",
      "✅ Final one-hot encoded dataset saved as 'pathmnist_preprocessed_final.csv'.\n",
      "Final DataFrame shape: (40500, 2362)\n"
     ]
    }
   ],
   "source": [
    "# Step 6: One-hot encode the label column and keep the original label\n",
    "if 'label' in df_sampled.columns:\n",
    "    df_encoded = pd.get_dummies(df_sampled, columns=['label'])\n",
    "    df_encoded['label'] = df_sampled['label']  # reattach the original label\n",
    "else:\n",
    "    print(\"Error: 'label' column not found in df_sampled.\")\n",
    "\n",
    "# Save the final one-hot encoded dataset\n",
    "df_encoded.to_csv(\"pathmnist_preprocessed_final.csv\", index=False)\n",
    "\n",
    "# Confirmation message\n",
    "print(f\"\\n✅ Final one-hot encoded dataset saved as 'pathmnist_preprocessed_final.csv'.\")\n",
    "print(f\"Final DataFrame shape: {df_encoded.shape}\")"
   ]
  }
 ],
 "metadata": {
  "kernelspec": {
   "display_name": ".venv",
   "language": "python",
   "name": "python3"
  },
  "language_info": {
   "codemirror_mode": {
    "name": "ipython",
    "version": 3
   },
   "file_extension": ".py",
   "mimetype": "text/x-python",
   "name": "python",
   "nbconvert_exporter": "python",
   "pygments_lexer": "ipython3",
   "version": "3.11.0"
  }
 },
 "nbformat": 4,
 "nbformat_minor": 5
}
