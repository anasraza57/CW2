{
 "cells": [
  {
   "cell_type": "code",
   "execution_count": null,
   "id": "d1c351e5-44d5-46ee-899b-688796165dc4",
   "metadata": {},
   "outputs": [],
   "source": [
    "pip install medmnist torch torchvision matplotlib seaborn scikit-learn umap-learn"
   ]
  },
  {
   "cell_type": "code",
   "execution_count": null,
   "id": "608b0f6e-d25b-4b3c-9cfa-1ce7178d350d",
   "metadata": {},
   "outputs": [],
   "source": [
    "import numpy as np\n",
    "import pandas as pd\n",
    "\n",
    "# Load the npz file directly\n",
    "data = np.load('pathmnist.npz')\n",
    "\n",
    "# Combine all splits\n",
    "all_images = np.concatenate([\n",
    "    data['train_images'],\n",
    "    data['val_images'],\n",
    "    data['test_images']\n",
    "], axis=0)\n",
    "\n",
    "all_labels = np.concatenate([\n",
    "    data['train_labels'],\n",
    "    data['val_labels'],\n",
    "    data['test_labels']\n",
    "], axis=0).flatten()\n",
    "\n",
    "# Flatten each image from (28, 28, 3) → 1D vector\n",
    "flat_images = all_images.reshape((all_images.shape[0], -1))\n",
    "\n",
    "# Create DataFrame: first column is label, rest are pixels\n",
    "df_full = pd.DataFrame(flat_images)\n",
    "df_full.insert(0, \"label\", all_labels)\n",
    "\n",
    "# Preview\n",
    "print(df_full.head())\n",
    "\n",
    "# Optional: Save to CSV\n",
    "# df_full.to_csv(\"pathmnist_full_dataset.csv\", index=False)"
   ]
  },
  {
   "cell_type": "code",
   "execution_count": null,
   "id": "713c295e-b59a-49d0-8c1d-88e6a64ebb32",
   "metadata": {},
   "outputs": [],
   "source": [
    "# Step 1: Define the mapping from label numbers to medical class names\n",
    "label_map = {\n",
    "    0: 'ADI',\n",
    "    1: 'BACK',\n",
    "    2: 'DEB',\n",
    "    3: 'LYM',\n",
    "    4: 'MUC',\n",
    "    5: 'MUS',\n",
    "    6: 'NORM',\n",
    "    7: 'STR',\n",
    "    8: 'TUM'\n",
    "}\n",
    "\n",
    "# Step 2: Apply stratified sampling (4500 rows per class)\n",
    "df_sampled = df_full.groupby('label').apply(lambda x: x.sample(n=4500, random_state=42)).reset_index(drop=True)\n",
    "\n",
    "# Step 3: Replace numeric labels with string labels using the mapping\n",
    "df_sampled['label'] = df_sampled['label'].map(label_map)\n",
    "\n",
    "# Save to CSV\n",
    "df_sampled.to_csv(\"pathmnist_stratified_4500_per_class_labeled.csv\", index=False)\n",
    "\n",
    "# Confirm shape\n",
    "print(df_sampled.shape)"
   ]
  },
  {
   "cell_type": "code",
   "execution_count": null,
   "id": "31457e5c",
   "metadata": {},
   "outputs": [],
   "source": [
    "# Step 4: Check and drop missing values\n",
    "missing_before = df_sampled.isnull().sum().sum()\n",
    "df_sampled = df_sampled.dropna()\n",
    "missing_after = df_sampled.isnull().sum().sum()\n",
    "\n",
    "# Step 5: Check and drop duplicate rows\n",
    "duplicates_before = df_sampled.duplicated().sum()\n",
    "df_sampled = df_sampled.drop_duplicates()\n",
    "duplicates_after = df_sampled.duplicated().sum()\n",
    "\n",
    "# Save cleaned dataset again\n",
    "df_sampled.to_csv(\"pathmnist_balanced_labeled_cleaned.csv\", index=False)\n",
    "\n",
    "# Print summary\n",
    "print(f\"Missing values removed: {missing_before - missing_after}\")\n",
    "print(f\"Duplicate rows removed: {duplicates_before - duplicates_after}\")\n",
    "print(f\"Final shape: {df_sampled.shape}\")\n"
   ]
  },
  {
   "cell_type": "code",
   "execution_count": null,
   "id": "84a24156",
   "metadata": {},
   "outputs": [],
   "source": [
    "# Step 6: One-hot encode the label column and keep the original label\n",
    "if 'label' in df_sampled.columns:\n",
    "    df_encoded = pd.get_dummies(df_sampled, columns=['label'])\n",
    "    df_encoded['label'] = df_sampled['label']  # reattach the original label\n",
    "else:\n",
    "    print(\"Error: 'label' column not found in df_sampled.\")\n",
    "\n",
    "# Save the final one-hot encoded dataset\n",
    "df_encoded.to_csv(\"pathmnist_preprocessed_final.csv\", index=False)\n",
    "\n",
    "# Confirmation message\n",
    "print(f\"\\n✅ Final one-hot encoded dataset saved as 'pathmnist_final_preprocessed.csv'.\")\n",
    "print(f\"Final DataFrame shape: {df_encoded.shape}\")"
   ]
  }
 ],
 "metadata": {
  "kernelspec": {
   "display_name": ".venv",
   "language": "python",
   "name": "python3"
  },
  "language_info": {
   "codemirror_mode": {
    "name": "ipython",
    "version": 3
   },
   "file_extension": ".py",
   "mimetype": "text/x-python",
   "name": "python",
   "nbconvert_exporter": "python",
   "pygments_lexer": "ipython3",
   "version": "3.11.0"
  }
 },
 "nbformat": 4,
 "nbformat_minor": 5
}
